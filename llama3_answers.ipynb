{
 "cells": [
  {
   "cell_type": "code",
   "execution_count": 10,
   "metadata": {},
   "outputs": [],
   "source": [
    "import pandas as pd\n",
    "import numpy as np"
   ]
  },
  {
   "cell_type": "code",
   "execution_count": null,
   "metadata": {},
   "outputs": [],
   "source": []
  },
  {
   "cell_type": "code",
   "execution_count": 155,
   "metadata": {},
   "outputs": [],
   "source": [
    "data=pd.read_csv('test.csv')\n",
    "original_questions=list(data['question'])\n",
    "l=set()\n",
    "t=0"
   ]
  },
  {
   "cell_type": "code",
   "execution_count": 215,
   "metadata": {},
   "outputs": [],
   "source": [
    "def add_answer(file):\n",
    "    global t\n",
    "    answers=[]\n",
    "    questions=[]\n",
    "    errors=[]\n",
    "    answers2={}\n",
    "    with open(file,\"r\",encoding='utf-8') as f:\n",
    "        s=f.readlines()\n",
    "        for i in range(len(s)):\n",
    "            if \"question\" in s[i] and \"answer\" in s[i]:\n",
    "                print(s[i])\n",
    "                print(file)\n",
    "            if \"question\" in s[i] and \"answer\" not in s[i]:\n",
    "                z=s[i].strip().lstrip(\"{\").lstrip('\"question\": ').rstrip(\",\").rstrip('\"')\n",
    "                questions.append(z)\n",
    "            elif \"answer\" in s[i]:\n",
    "                z=s[i].strip().rstrip(\"}\").lstrip('\"answer\": ').rstrip(\",\").rstrip('\"')\n",
    "                answers.append(z)\n",
    "            \n",
    "    \n",
    "    # print(questions)\n",
    "    t=t+len(questions)\n",
    "    h=0\n",
    "    f=0\n",
    "    for i in questions:\n",
    "        if i in original_questions:\n",
    "            l.add(original_questions.index(i))\n",
    "            answers2[original_questions.index(i)]=answers[f]\n",
    "        else:\n",
    "            print(i)\n",
    "            h=1\n",
    "        f+=1\n",
    "    if h==1:\n",
    "        print(file)\n",
    "    return answers2,errors"
   ]
  },
  {
   "cell_type": "code",
   "execution_count": 222,
   "metadata": {},
   "outputs": [
    {
     "name": "stdout",
     "output_type": "stream",
     "text": [
      "    \"answer\": \"Not applicable, as the question does not specify the quarterback's name or age.\"\n",
      "\n",
      "responses\\output3.txt\n",
      "Is A Brief History of Time the most read book in the world?\n",
      "What is the capital of the largest state (by area) in the U.S.? \n",
      "What is the second largest lake in the U.S.? \n",
      "responses\\output4.txt\n",
      "\"answer\": \"The question does not provide enough information to answer this question accurately. However, Lara Croft is searching for the artifact in the tomb of the pharaoh, Imhotep.\"\n",
      "\n",
      "responses\\output5.txt\n",
      "Did the first Pokémon game come out before the first Grand Theft Auto game?\n",
      "What Sonic game did not include Tails?\n",
      "responses\\output5.txt\n",
      "What is the title of the second Indiana Jones movie?\n",
      "responses\\output7.txt\n",
      "Which Chronicles of Narnia book does not begin with the?\n",
      "responses\\output8.txt\n",
      "What is the capital of the largest state (by area) in the U.S.? \n",
      "What is the second largest lake in the U.S.? \n",
      "What is the tallest mountain in the U.S.? \n",
      "responses\\responses_1318_1424.txt\n",
      "What is the seventh game in the Yakuza series?\n",
      "responses\\responses_1943_2000.txt\n",
      "How old is the actor that plays the Joker in the movie Joker?\n",
      "Where was the actress who played Hermione born?\n",
      "What is the title of the second Indiana Jones movie?\n",
      "responses\\responses_96_403.txt\n"
     ]
    }
   ],
   "source": [
    "import os\n",
    "all_errors=[]\n",
    "all_answers={}\n",
    "files=os.listdir(\"responses\")\n",
    "for i in files:\n",
    "    file=os.path.join(\"responses\",i)\n",
    "    answers,errors=add_answer(file)\n",
    "    all_errors.append(errors)\n",
    "    all_answers.update(answers)\n",
    "   "
   ]
  },
  {
   "cell_type": "code",
   "execution_count": 211,
   "metadata": {},
   "outputs": [
    {
     "name": "stdout",
     "output_type": "stream",
     "text": [
      "1918\n"
     ]
    }
   ],
   "source": [
    "print(len(all_answers))"
   ]
  },
  {
   "cell_type": "code",
   "execution_count": 224,
   "metadata": {},
   "outputs": [],
   "source": [
    "data2=data.copy(deep=True)\n",
    "data2['llm_response']=None\n",
    "for i in all_answers:\n",
    "    data2.loc[i,'llm_response']=all_answers[i]\n",
    "data2=data2[['question','answerText','llm_response','category','complexityType']]\n",
    "data2.rename(columns={'answerText': 'actual_answers'}, inplace=True)\n",
    "data2=data2.iloc[0:2000]\n",
    "data2.to_csv('llama3.csv',index=False)"
   ]
  },
  {
   "cell_type": "code",
   "execution_count": 161,
   "metadata": {},
   "outputs": [],
   "source": [
    "# import json\n",
    "# import re\n",
    "# def add_answers2(file):\n",
    "#     global t\n",
    "#     answers=[]\n",
    "#     questions=[]\n",
    "#     errors=[]\n",
    "#     with open(\"output8.txt\",\"w\",encoding='utf-8') as f2:\n",
    "#         with open(file,\"r\",encoding='utf-8') as f:\n",
    "#             for i in f.readlines():\n",
    "#                 s=json.loads(i)\n",
    "#                 f2.write(s)\n",
    "#                 f2.write(\"\\n\")\n",
    "#             # for i in s:\n",
    "#             #     f2.write(i)\n",
    "#             #     f2.write(\"\\n\")\n",
    "        "
   ]
  },
  {
   "cell_type": "code",
   "execution_count": 162,
   "metadata": {},
   "outputs": [],
   "source": [
    "# add_answers2(\"D:\\\\sweb\\\\response_2\\\\output (7).jsonl\")"
   ]
  },
  {
   "cell_type": "code",
   "execution_count": 209,
   "metadata": {},
   "outputs": [
    {
     "name": "stdout",
     "output_type": "stream",
     "text": [
      "9\n",
      "id                                                         fae46b21\n",
      "lang                                                             en\n",
      "question          What man was a famous American author and also...\n",
      "answerText                                               Mark Twain\n",
      "category                                                    history\n",
      "complexityType                                         intersection\n",
      "questionEntity    [{'name': 'Q1497', 'entityType': 'entity', 'la...\n",
      "answerEntity             [{'name': 'Q7245', 'label': 'Mark Twain'}]\n",
      "Name: 0, dtype: object\n",
      "id                                                         bc8713cc\n",
      "lang                                                             en\n",
      "question          How many Academy Awards has Jake Gyllenhaal be...\n",
      "answerText                                                        1\n",
      "category                                                     movies\n",
      "complexityType                                                count\n",
      "questionEntity    [{'name': 'Q133313', 'entityType': 'entity', '...\n",
      "answerEntity      [{'name': 'Q106291', 'label': 'Academy Award f...\n",
      "Name: 1, dtype: object\n",
      "id                                                         d2a03f72\n",
      "lang                                                             en\n",
      "question                         Who is older, The Weeknd or Drake?\n",
      "answerText                                                    Drake\n",
      "category                                                      music\n",
      "complexityType                                          comparative\n",
      "questionEntity    [{'name': 'Q2121062', 'entityType': 'entity', ...\n",
      "answerEntity                 [{'name': 'Q33240', 'label': 'Drake'}]\n",
      "Name: 2, dtype: object\n",
      "id                                                         e343ad26\n",
      "lang                                                             en\n",
      "question           Is the main hero in Final Fantasy IX named Kuja?\n",
      "answerText                                                       No\n",
      "category                                                 videogames\n",
      "complexityType                                                yesno\n",
      "questionEntity    [{'name': 'Q474573', 'entityType': 'entity', '...\n",
      "answerEntity                                                     []\n",
      "Name: 4, dtype: object\n",
      "id                                                         b41ae115\n",
      "lang                                                             en\n",
      "question          Who performed at the Super Bowl XXIII halftime...\n",
      "answerText                                             Elvis Presto\n",
      "category                                                     sports\n",
      "complexityType                                              generic\n",
      "questionEntity    [{'name': 'Q1307150', 'entityType': 'entity', ...\n",
      "answerEntity                                                     []\n",
      "Name: 5, dtype: object\n",
      "id                                                         7ed1858c\n",
      "lang                                                             en\n",
      "question          Which movie, starring Al Jolson, is generally ...\n",
      "answerText                                          The Jazz Singer\n",
      "category                                                     movies\n",
      "complexityType                                              ordinal\n",
      "questionEntity    [{'name': 'Q128532', 'entityType': 'entity', '...\n",
      "answerEntity      [{'name': 'Q465087', 'label': 'The Jazz Singer'}]\n",
      "Name: 9, dtype: object\n",
      "id                                                         bfc9807b\n",
      "lang                                                             en\n",
      "question                   What state is the author of Misery from?\n",
      "answerText                                                    Maine\n",
      "category                                                      books\n",
      "complexityType                                             multihop\n",
      "questionEntity    [{'name': 'Q596874', 'entityType': 'entity', '...\n",
      "answerEntity                   [{'name': 'Q724', 'label': 'Maine'}]\n",
      "Name: 10, dtype: object\n",
      "id                                                         61216214\n",
      "lang                                                             en\n",
      "question          Which 2000 Christopher Nolan movie does not st...\n",
      "answerText                                                  Memento\n",
      "category                                                     movies\n",
      "complexityType                                           difference\n",
      "questionEntity    [{'name': 'Q38111', 'entityType': 'entity', 'l...\n",
      "answerEntity              [{'name': 'Q190525', 'label': 'Memento'}]\n",
      "Name: 76, dtype: object\n",
      "id                                                         6f760be8\n",
      "lang                                                             en\n",
      "question                   What is the shortest Harry Potter movie?\n",
      "answerText             Harry Potter and the Deathly Hallows: Part 2\n",
      "category                                                     movies\n",
      "complexityType                                          superlative\n",
      "questionEntity    [{'name': 'Q216930', 'entityType': 'entity', '...\n",
      "answerEntity      [{'name': 'Q232009', 'label': 'Harry Potter an...\n",
      "Name: 220, dtype: object\n"
     ]
    }
   ],
   "source": [
    "complexities=data['complexityType'].unique()\n",
    "print(len(complexities))\n",
    "for i in complexities:\n",
    "    print(data[data['complexityType']==i].iloc[0])"
   ]
  }
 ],
 "metadata": {
  "kernelspec": {
   "display_name": "Python 3",
   "language": "python",
   "name": "python3"
  },
  "language_info": {
   "codemirror_mode": {
    "name": "ipython",
    "version": 3
   },
   "file_extension": ".py",
   "mimetype": "text/x-python",
   "name": "python",
   "nbconvert_exporter": "python",
   "pygments_lexer": "ipython3",
   "version": "3.11.7"
  }
 },
 "nbformat": 4,
 "nbformat_minor": 2
}
